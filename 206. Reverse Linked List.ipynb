{
 "cells": [
  {
   "cell_type": "code",
   "execution_count": null,
   "id": "f85c87b0-12cc-4978-8f51-064ed54b2fa3",
   "metadata": {},
   "outputs": [],
   "source": [
    "class Solution:\n",
    "    def reverseList(self, head: Optional[ListNode]) -> Optional[ListNode]:\n",
    "        # Initialize pointers\n",
    "        prev = None\n",
    "        curr = head\n",
    "\n",
    "        # Traverse the list\n",
    "        while curr is not None:\n",
    "            next_node = curr.next\n",
    "            curr.next = prev\n",
    "\n",
    "            # Move pointers forward\n",
    "            prev = curr\n",
    "            curr = next_node\n",
    "\n",
    "        return prev"
   ]
  }
 ],
 "metadata": {
  "kernelspec": {
   "display_name": "Python 3 (ipykernel)",
   "language": "python",
   "name": "python3"
  },
  "language_info": {
   "codemirror_mode": {
    "name": "ipython",
    "version": 3
   },
   "file_extension": ".py",
   "mimetype": "text/x-python",
   "name": "python",
   "nbconvert_exporter": "python",
   "pygments_lexer": "ipython3",
   "version": "3.11.5"
  }
 },
 "nbformat": 4,
 "nbformat_minor": 5
}
